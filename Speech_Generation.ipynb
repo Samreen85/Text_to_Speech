{
 "cells": [
  {
   "cell_type": "code",
   "execution_count": null,
   "metadata": {},
   "outputs": [
    {
     "name": "stderr",
     "output_type": "stream",
     "text": [
      "C:\\Users\\User\\AppData\\Local\\Temp\\ipykernel_14716\\368914174.py:12: DeprecationWarning: Due to a bug, this method doesn't actually stream the response content, `.with_streaming_response.method()` should be used instead\n",
      "  response.stream_to_file(\"output.mp3\")\n"
     ]
    }
   ],
   "source": [
    "# Generate speech from text. Input: text, Output: speech.\n",
    "from openai import OpenAI\n",
    "\n",
    "client = OpenAI(api_key=\"your open ai key\")\n",
    "\n",
    "response = client.audio.speech.create(\n",
    "    model=\"tts-1\",\n",
    "    voice=\"fable\", # Alloy, Echo, Fable, Onyx, Nova, Shimmer\n",
    "    input=\"Hello world! My name is Samreen Malik. I am an AI developer with over 2 years of experience. I have worked in 2 companies. I have done my bachelors in computer engineering from hitec university taxila in 2022.\",\n",
    ")\n",
    "\n",
    "response.stream_to_file(\"output.mp3\")"
   ]
  },
  {
   "cell_type": "code",
   "execution_count": null,
   "metadata": {},
   "outputs": [
    {
     "name": "stdout",
     "output_type": "stream",
     "text": [
      "Today is a wonderful day to build something people love.\n"
     ]
    }
   ],
   "source": [
    "# Generate text from speech. Input: speech, Output: text.\n",
    "from openai import OpenAI\n",
    "client = OpenAI(api_key=\"your open ai key\")\n",
    "\n",
    "audio_file= open(\".\\Input_Voices\\output.mp3\", \"rb\")\n",
    "transcription = client.audio.transcriptions.create(\n",
    "  model=\"whisper-1\", \n",
    "  file=audio_file\n",
    ")\n",
    "print(transcription.text)"
   ]
  }
 ],
 "metadata": {
  "kernelspec": {
   "display_name": "Python 3",
   "language": "python",
   "name": "python3"
  },
  "language_info": {
   "codemirror_mode": {
    "name": "ipython",
    "version": 3
   },
   "file_extension": ".py",
   "mimetype": "text/x-python",
   "name": "python",
   "nbconvert_exporter": "python",
   "pygments_lexer": "ipython3",
   "version": "3.11.9"
  }
 },
 "nbformat": 4,
 "nbformat_minor": 2
}
